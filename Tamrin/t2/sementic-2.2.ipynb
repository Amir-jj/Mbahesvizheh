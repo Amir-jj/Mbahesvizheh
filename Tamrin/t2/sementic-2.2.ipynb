{
 "cells": [
  {
   "cell_type": "code",
   "execution_count": 1,
   "id": "56d2f317-5163-4dd5-95a5-927126d132cd",
   "metadata": {},
   "outputs": [
    {
     "name": "stdout",
     "output_type": "stream",
     "text": [
      "The sum of 2 and 5 is 25\n"
     ]
    }
   ],
   "source": [
    "num1 = ('2')\n",
    "num2 = ('5')\n",
    "sum = num1 + num2\n",
    "print('The sum of', num1, 'and', num2, 'is', sum)\n"
   ]
  },
  {
   "cell_type": "code",
   "execution_count": null,
   "id": "55d958e2-7d81-4d60-a010-e768774cd7b6",
   "metadata": {},
   "outputs": [],
   "source": []
  }
 ],
 "metadata": {
  "kernelspec": {
   "display_name": "Python 3 (ipykernel)",
   "language": "python",
   "name": "python3"
  },
  "language_info": {
   "codemirror_mode": {
    "name": "ipython",
    "version": 3
   },
   "file_extension": ".py",
   "mimetype": "text/x-python",
   "name": "python",
   "nbconvert_exporter": "python",
   "pygments_lexer": "ipython3",
   "version": "3.10.7"
  }
 },
 "nbformat": 4,
 "nbformat_minor": 5
}
