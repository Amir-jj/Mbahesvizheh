{
 "cells": [
  {
   "cell_type": "code",
   "execution_count": 3,
   "id": "2d6831b4-bf01-461b-b9d7-92c4627100be",
   "metadata": {},
   "outputs": [
    {
     "data": {
      "text/plain": [
       "0.9092974268256817"
      ]
     },
     "execution_count": 3,
     "metadata": {},
     "output_type": "execute_result"
    }
   ],
   "source": [
    "import math\n",
    "def mySin(x):\n",
    "   return math.sin(x)\n",
    "mySin(2)\n",
    "    "
   ]
  },
  {
   "cell_type": "code",
   "execution_count": 6,
   "id": "72b39f39-af4b-40c8-b194-d5090018c146",
   "metadata": {},
   "outputs": [
    {
     "data": {
      "text/plain": [
       "0.23869349855450117"
      ]
     },
     "execution_count": 6,
     "metadata": {},
     "output_type": "execute_result"
    }
   ],
   "source": [
    "def Ms(x,y):\n",
    "    return math.sin(x) * math.cos(y)\n",
    "\n",
    "Ms(1,5)"
   ]
  },
  {
   "cell_type": "code",
   "execution_count": 7,
   "id": "aa492490-5c1f-4e7f-b9d7-7a50aa2b096a",
   "metadata": {},
   "outputs": [
    {
     "data": {
      "text/plain": [
       "-1.4934360727194709"
      ]
     },
     "execution_count": 7,
     "metadata": {},
     "output_type": "execute_result"
    }
   ],
   "source": [
    "def Ms_1(x,y):\n",
    "    c = (math.sin(x) / math.cos(x)) * math.sin(y)\n",
    "    return c\n",
    "\n",
    "Ms_1(1,5)"
   ]
  },
  {
   "cell_type": "code",
   "execution_count": 10,
   "id": "948028b1-2cac-400b-908a-ecaacdb9dbba",
   "metadata": {},
   "outputs": [
    {
     "data": {
      "text/plain": [
       "2.0"
      ]
     },
     "execution_count": 10,
     "metadata": {},
     "output_type": "execute_result"
    }
   ],
   "source": [
    "def w(x,y,t):\n",
    "    c = math.sqrt((x-y)/t)\n",
    "    return c\n",
    "\n",
    "w(10,2,2)"
   ]
  },
  {
   "cell_type": "code",
   "execution_count": 37,
   "id": "63e88839-fb6f-4fcb-8eb4-dd85704df59c",
   "metadata": {},
   "outputs": [
    {
     "data": {
      "text/plain": [
       "-24"
      ]
     },
     "execution_count": 37,
     "metadata": {},
     "output_type": "execute_result"
    }
   ],
   "source": [
    "def b(a,h,y,x):\n",
    "    \n",
    "    x = x - a *(2*(h-y))\n",
    "    return x\n",
    "\n",
    "b(12,5,4,0)"
   ]
  },
  {
   "cell_type": "code",
   "execution_count": 38,
   "id": "b6b11f97-35f5-4c74-acc6-81984d837ec5",
   "metadata": {},
   "outputs": [
    {
     "name": "stdout",
     "output_type": "stream",
     "text": [
      "A\n",
      "m\n",
      "i\n",
      "r\n",
      "r\n",
      "e\n",
      "z\n",
      "a\n",
      "J\n",
      "a\n",
      "f\n",
      "a\n",
      "r\n",
      "i\n",
      "finish\n"
     ]
    }
   ],
   "source": [
    "def MyName(Name):\n",
    "    c= len(Name)\n",
    "    index = 0\n",
    "    while(index != c):\n",
    "        print(Name[index])\n",
    "        index = index+1\n",
    "    print(\"finish\")\n",
    "\n",
    "MyName(\"AmirrezaJafari\")\n",
    "\n",
    "    \n"
   ]
  },
  {
   "cell_type": "code",
   "execution_count": 43,
   "id": "53db86e9-02e6-4a1c-8e3a-f64f29c90bc3",
   "metadata": {},
   "outputs": [
    {
     "name": "stdout",
     "output_type": "stream",
     "text": [
      "A\n",
      "m\n",
      "i\n",
      "r\n",
      "r\n",
      "e\n",
      "z\n",
      "a\n",
      "J\n",
      "a\n",
      "f\n",
      "a\n",
      "r\n",
      "i\n",
      "Finish\n"
     ]
    }
   ],
   "source": [
    "def myName(Name):\n",
    "    for i in Name :\n",
    "        print(i)\n",
    "\n",
    "    print(\"Finish\")\n",
    "myName(\"AmirrezaJafari\")"
   ]
  },
  {
   "cell_type": "code",
   "execution_count": 60,
   "id": "81592d05-4f9e-4172-bf39-926659ce1ed1",
   "metadata": {},
   "outputs": [
    {
     "name": "stdout",
     "output_type": "stream",
     "text": [
      "yes\n"
     ]
    }
   ],
   "source": [
    "def palinDrom(n):\n",
    "    s = \"\"\n",
    "    for i in n:\n",
    "        s = i+s\n",
    "    if(s == n):\n",
    "        print(\"yes\")\n",
    "    else:\n",
    "        print(\"no\")\n",
    "\n",
    "palinDrom(\"asa\")\n"
   ]
  },
  {
   "cell_type": "code",
   "execution_count": null,
   "id": "7cbbdd01-99a9-4be0-aeab-65417c586b64",
   "metadata": {},
   "outputs": [],
   "source": []
  },
  {
   "cell_type": "code",
   "execution_count": null,
   "id": "91f8ecd7-e9c1-4ea5-bfb3-dc51bd6cb37e",
   "metadata": {},
   "outputs": [],
   "source": []
  },
  {
   "cell_type": "code",
   "execution_count": null,
   "id": "e1874ea1-bea0-41a8-8968-1492b88a2053",
   "metadata": {},
   "outputs": [],
   "source": []
  }
 ],
 "metadata": {
  "kernelspec": {
   "display_name": "Python 3 (ipykernel)",
   "language": "python",
   "name": "python3"
  },
  "language_info": {
   "codemirror_mode": {
    "name": "ipython",
    "version": 3
   },
   "file_extension": ".py",
   "mimetype": "text/x-python",
   "name": "python",
   "nbconvert_exporter": "python",
   "pygments_lexer": "ipython3",
   "version": "3.10.7"
  }
 },
 "nbformat": 4,
 "nbformat_minor": 5
}
