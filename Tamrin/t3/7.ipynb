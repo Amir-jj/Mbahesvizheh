{
 "cells": [
  {
   "cell_type": "code",
   "execution_count": 1,
   "id": "634a8d68-31f6-496b-8990-23f98c660af9",
   "metadata": {},
   "outputs": [
    {
     "name": "stdout",
     "output_type": "stream",
     "text": [
      "20\n",
      "10\n",
      "19\n",
      "10\n",
      "18\n",
      "10\n",
      "17\n",
      "10\n",
      "16\n",
      "10\n",
      "15\n",
      "10\n",
      "14\n",
      "10\n",
      "13\n",
      "10\n",
      "12\n",
      "10\n",
      "11\n",
      "10\n",
      "10\n",
      "10\n",
      "9\n",
      "10\n",
      "8\n",
      "10\n",
      "7\n",
      "10\n",
      "6\n",
      "10\n",
      "5\n",
      "10\n",
      "4\n",
      "10\n",
      "3\n",
      "10\n",
      "2\n",
      "10\n",
      "1\n",
      "10\n",
      "0\n",
      "10\n",
      "پایان\n"
     ]
    }
   ],
   "source": [
    "def Recurs(n,s):#تعریف تابع\n",
    "    if(n<0): #  کوچک  تر از 0 بود پایان رو چاپ کن n اگر \n",
    "        print(\"پایان\")\n",
    "\n",
    "    else:   #     را چاپ کن s,n  در غیر اینصورت\n",
    "        print(n)\n",
    "        print(s)\n",
    "        Recurs(n-1,s)  # n-1تابع رو فرا خوانی کن و \n",
    "\n",
    "\n",
    "Recurs(20,10) # فراخوانی اولیه"
   ]
  },
  {
   "cell_type": "code",
   "execution_count": null,
   "id": "c6b6d2c0-7a54-45b2-929c-18c4e0616a0b",
   "metadata": {},
   "outputs": [],
   "source": []
  }
 ],
 "metadata": {
  "kernelspec": {
   "display_name": "Python 3 (ipykernel)",
   "language": "python",
   "name": "python3"
  },
  "language_info": {
   "codemirror_mode": {
    "name": "ipython",
    "version": 3
   },
   "file_extension": ".py",
   "mimetype": "text/x-python",
   "name": "python",
   "nbconvert_exporter": "python",
   "pygments_lexer": "ipython3",
   "version": "3.10.7"
  }
 },
 "nbformat": 4,
 "nbformat_minor": 5
}
