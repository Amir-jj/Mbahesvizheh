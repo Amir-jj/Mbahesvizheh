{
 "cells": [
  {
   "cell_type": "code",
   "execution_count": 3,
   "id": "411b3994-d406-452b-8ded-fa184c989494",
   "metadata": {},
   "outputs": [
    {
     "data": {
      "text/plain": [
       "(False, True, False, True, True, False)"
      ]
     },
     "execution_count": 3,
     "metadata": {},
     "output_type": "execute_result"
    }
   ],
   "source": [
    "def Ms(n,m):\n",
    "    return n == m ,n>=m,n<=m, n!=m,n>m,n<m\n",
    "        \n",
    "Ms(\"amir\",\"ali\")"
   ]
  },
  {
   "cell_type": "code",
   "execution_count": 14,
   "id": "59b24e73-4bac-41f6-bf5b-489b298578ff",
   "metadata": {},
   "outputs": [
    {
     "data": {
      "text/plain": [
       "False"
      ]
     },
     "execution_count": 14,
     "metadata": {},
     "output_type": "execute_result"
    }
   ],
   "source": [
    "def MyStr(str_1,str_2):\n",
    "    return len(str_1) == len(str_2)\n",
    "\n",
    "MyStr(\"amir\",\"ali\")"
   ]
  },
  {
   "cell_type": "code",
   "execution_count": 15,
   "id": "39b3715f-d373-4314-9b72-4fe46d070785",
   "metadata": {},
   "outputs": [
    {
     "name": "stdout",
     "output_type": "stream",
     "text": [
      "amir\n",
      "25\n",
      "ali\n",
      "True\n"
     ]
    }
   ],
   "source": [
    "Mylist = [\"amir\",25,\"ali\",True]\n",
    "for i in Mylist:\n",
    "    print(i)\n"
   ]
  },
  {
   "cell_type": "code",
   "execution_count": 16,
   "id": "dcec0850-1662-41da-b078-29c011082f41",
   "metadata": {},
   "outputs": [
    {
     "name": "stdout",
     "output_type": "stream",
     "text": [
      "[True, 'ali', 25, 'amir']\n"
     ]
    }
   ],
   "source": [
    "Mylist = [\"amir\",25,\"ali\",True]\n",
    "print(Mylist[::-1])"
   ]
  },
  {
   "cell_type": "code",
   "execution_count": null,
   "id": "ee7711f8-1755-478e-b6c1-7fd691b3e656",
   "metadata": {},
   "outputs": [],
   "source": []
  },
  {
   "cell_type": "code",
   "execution_count": null,
   "id": "4df3ab27-8b4e-45d3-b8b7-7d86a65ed4bb",
   "metadata": {},
   "outputs": [],
   "source": []
  }
 ],
 "metadata": {
  "kernelspec": {
   "display_name": "Python 3 (ipykernel)",
   "language": "python",
   "name": "python3"
  },
  "language_info": {
   "codemirror_mode": {
    "name": "ipython",
    "version": 3
   },
   "file_extension": ".py",
   "mimetype": "text/x-python",
   "name": "python",
   "nbconvert_exporter": "python",
   "pygments_lexer": "ipython3",
   "version": "3.10.7"
  }
 },
 "nbformat": 4,
 "nbformat_minor": 5
}
