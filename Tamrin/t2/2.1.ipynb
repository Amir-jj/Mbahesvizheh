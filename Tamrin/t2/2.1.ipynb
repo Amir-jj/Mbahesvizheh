{
 "cells": [
  {
   "cell_type": "code",
   "execution_count": 3,
   "id": "3a5e0d86-bf9b-4920-bace-fafb9e6fd134",
   "metadata": {},
   "outputs": [
    {
     "name": "stdout",
     "output_type": "stream",
     "text": [
      "Name:Amirreza \n",
      " lname:jafari \n",
      " Age:20\n"
     ]
    }
   ],
   "source": [
    "print(\"Name:Amirreza \\n lname:jafari \\n Age:20\")"
   ]
  },
  {
   "cell_type": "code",
   "execution_count": null,
   "id": "99a3ac35-eda5-4c5a-9d05-17c1ddc1cd83",
   "metadata": {},
   "outputs": [],
   "source": []
  }
 ],
 "metadata": {
  "kernelspec": {
   "display_name": "Python 3 (ipykernel)",
   "language": "python",
   "name": "python3"
  },
  "language_info": {
   "codemirror_mode": {
    "name": "ipython",
    "version": 3
   },
   "file_extension": ".py",
   "mimetype": "text/x-python",
   "name": "python",
   "nbconvert_exporter": "python",
   "pygments_lexer": "ipython3",
   "version": "3.10.7"
  }
 },
 "nbformat": 4,
 "nbformat_minor": 5
}
