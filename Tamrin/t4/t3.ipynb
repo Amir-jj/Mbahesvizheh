{
 "cells": [
  {
   "cell_type": "code",
   "execution_count": 2,
   "id": "64429826-348f-4681-b617-1a8a7ac56bbf",
   "metadata": {},
   "outputs": [
    {
     "name": "stdout",
     "output_type": "stream",
     "text": [
      "BakhshPazir Nist.\n"
     ]
    }
   ],
   "source": [
    "def BahkshPazir(a,b):\n",
    "    if(a%b == 0):\n",
    "        print(\"BakhshPzir Ast.\")\n",
    "\n",
    "    else:\n",
    "        print(\"BakhshPazir Nist.\")\n",
    "\n",
    "BahkshPazir(4,3)\n",
    "        "
   ]
  },
  {
   "cell_type": "code",
   "execution_count": null,
   "id": "05ed13e0-1127-4eb6-936d-cfe280164bfd",
   "metadata": {},
   "outputs": [],
   "source": []
  }
 ],
 "metadata": {
  "kernelspec": {
   "display_name": "Python 3 (ipykernel)",
   "language": "python",
   "name": "python3"
  },
  "language_info": {
   "codemirror_mode": {
    "name": "ipython",
    "version": 3
   },
   "file_extension": ".py",
   "mimetype": "text/x-python",
   "name": "python",
   "nbconvert_exporter": "python",
   "pygments_lexer": "ipython3",
   "version": "3.10.7"
  }
 },
 "nbformat": 4,
 "nbformat_minor": 5
}
