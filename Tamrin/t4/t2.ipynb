{
 "cells": [
  {
   "cell_type": "code",
   "execution_count": 10,
   "id": "3e9794b6-9104-4e4e-827f-ee2edbe480fa",
   "metadata": {},
   "outputs": [
    {
     "data": {
      "text/plain": [
       "2.8284271247461903"
      ]
     },
     "execution_count": 10,
     "metadata": {},
     "output_type": "execute_result"
    }
   ],
   "source": [
    "import math\n",
    "def jazr(a,b):\n",
    "    c = math.sqrt(a**2 + b**2)\n",
    "    return  c\n",
    "\n",
    "jazr(2,2)"
   ]
  },
  {
   "cell_type": "code",
   "execution_count": null,
   "id": "169db641-9e4c-462e-955b-e3a4516ed746",
   "metadata": {},
   "outputs": [],
   "source": []
  },
  {
   "cell_type": "code",
   "execution_count": null,
   "id": "9bad509b-72b3-4a95-a750-20d5ebac1332",
   "metadata": {},
   "outputs": [],
   "source": []
  }
 ],
 "metadata": {
  "kernelspec": {
   "display_name": "Python 3 (ipykernel)",
   "language": "python",
   "name": "python3"
  },
  "language_info": {
   "codemirror_mode": {
    "name": "ipython",
    "version": 3
   },
   "file_extension": ".py",
   "mimetype": "text/x-python",
   "name": "python",
   "nbconvert_exporter": "python",
   "pygments_lexer": "ipython3",
   "version": "3.10.7"
  }
 },
 "nbformat": 4,
 "nbformat_minor": 5
}
