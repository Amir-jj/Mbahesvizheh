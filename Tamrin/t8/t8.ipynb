{
 "cells": [
  {
   "cell_type": "code",
   "execution_count": 26,
   "id": "85fb7777-161f-4102-98b2-fc5d9d2cdf44",
   "metadata": {},
   "outputs": [
    {
     "ename": "TypeError",
     "evalue": "'<' not supported between instances of 'str' and 'int'",
     "output_type": "error",
     "traceback": [
      "\u001b[1;31m---------------------------------------------------------------------------\u001b[0m",
      "\u001b[1;31mTypeError\u001b[0m                                 Traceback (most recent call last)",
      "Cell \u001b[1;32mIn[26], line 2\u001b[0m\n\u001b[0;32m      1\u001b[0m ml \u001b[38;5;241m=\u001b[39m [\u001b[38;5;241m1\u001b[39m,\u001b[38;5;241m2\u001b[39m,\u001b[38;5;241m3\u001b[39m,\u001b[38;5;124m\"\u001b[39m\u001b[38;5;124mamin\u001b[39m\u001b[38;5;124m\"\u001b[39m]\n\u001b[1;32m----> 2\u001b[0m x \u001b[38;5;241m=\u001b[39m \u001b[38;5;28;43msorted\u001b[39;49m\u001b[43m(\u001b[49m\u001b[43mml\u001b[49m\u001b[43m)\u001b[49m\n\u001b[0;32m      3\u001b[0m \u001b[38;5;28mprint\u001b[39m(x)\n",
      "\u001b[1;31mTypeError\u001b[0m: '<' not supported between instances of 'str' and 'int'"
     ]
    }
   ],
   "source": [
    "ml = [1,2,3,\"amin\"]\n",
    "x = sorted(ml)\n",
    "print(x)"
   ]
  },
  {
   "cell_type": "code",
   "execution_count": 35,
   "id": "3f414611-9c5d-4bb8-88d5-b7d48ac310b8",
   "metadata": {},
   "outputs": [
    {
     "ename": "TypeError",
     "evalue": "unsupported operand type(s) for +: 'int' and 'str'",
     "output_type": "error",
     "traceback": [
      "\u001b[1;31m---------------------------------------------------------------------------\u001b[0m",
      "\u001b[1;31mTypeError\u001b[0m                                 Traceback (most recent call last)",
      "Cell \u001b[1;32mIn[35], line 2\u001b[0m\n\u001b[0;32m      1\u001b[0m a \u001b[38;5;241m=\u001b[39m [\u001b[38;5;124m\"\u001b[39m\u001b[38;5;124mali\u001b[39m\u001b[38;5;124m\"\u001b[39m,\u001b[38;5;124m\"\u001b[39m\u001b[38;5;124mreza\u001b[39m\u001b[38;5;124m\"\u001b[39m,\u001b[38;5;241m5\u001b[39m]\n\u001b[1;32m----> 2\u001b[0m s\u001b[38;5;241m=\u001b[39m \u001b[38;5;28;43msum\u001b[39;49m\u001b[43m(\u001b[49m\u001b[43ma\u001b[49m\u001b[43m)\u001b[49m\n\u001b[0;32m      3\u001b[0m \u001b[38;5;28mprint\u001b[39m(s)\n",
      "\u001b[1;31mTypeError\u001b[0m: unsupported operand type(s) for +: 'int' and 'str'"
     ]
    }
   ],
   "source": [
    "a = [\"ali\",\"reza\"]\n",
    "s= sum(a)\n",
    "print(s)"
   ]
  },
  {
   "cell_type": "code",
   "execution_count": 47,
   "id": "27c77781-ec97-449c-be74-5bd1e43bd6f3",
   "metadata": {},
   "outputs": [
    {
     "name": "stdout",
     "output_type": "stream",
     "text": [
      "['A', 'H', 'F']\n",
      "['b', 'c', 'd']\n",
      "['@']\n"
     ]
    }
   ],
   "source": [
    "a = \"@AbHcdF\"\n",
    "upper = []\n",
    "lower = []\n",
    "char = []\n",
    "for i in a :\n",
    "    if i.isupper():\n",
    "        upper.append(i)\n",
    "\n",
    "    elif i.islower():\n",
    "        lower.append(i)\n",
    "    else:\n",
    "        char.append(i)\n",
    "\n",
    "print(upper)\n",
    "print(lower)\n",
    "print(char)\n",
    "        \n"
   ]
  },
  {
   "cell_type": "code",
   "execution_count": 100,
   "id": "bb33f614-8704-416e-ab4b-9c562bf33565",
   "metadata": {},
   "outputs": [
    {
     "name": "stdout",
     "output_type": "stream",
     "text": [
      "['amir', 25, 5]\n",
      "['amir', 25]\n",
      "['amir']\n",
      "[]\n"
     ]
    }
   ],
   "source": [
    "v = [\"amir\",25,5]\n",
    "for i in range(len(v)):\n",
    "    print(v)\n",
    "    v.pop()\n",
    "    \n",
    "print(v)"
   ]
  },
  {
   "cell_type": "code",
   "execution_count": 103,
   "id": "b02fa2f1-1be6-4f01-adc3-be0278c678fa",
   "metadata": {},
   "outputs": [
    {
     "name": "stdout",
     "output_type": "stream",
     "text": [
      "False\n"
     ]
    }
   ],
   "source": [
    "a= [2,5,9]\n",
    "b= [2,5,9]\n",
    "c = a is b\n",
    "print(c)\n"
   ]
  },
  {
   "cell_type": "code",
   "execution_count": 105,
   "id": "0dc05a5c-a85b-4ef3-8120-3adeeaadeff6",
   "metadata": {},
   "outputs": [
    {
     "name": "stdout",
     "output_type": "stream",
     "text": [
      "[[1]]\n"
     ]
    }
   ],
   "source": [
    "a= []\n",
    "a.append([1])\n",
    "print(a)"
   ]
  },
  {
   "cell_type": "code",
   "execution_count": 111,
   "id": "8580a9e2-aeaa-4548-a0e4-2d5302c37442",
   "metadata": {},
   "outputs": [
    {
     "name": "stdout",
     "output_type": "stream",
     "text": [
      "[(1, 2), (3, 4), (5, 6)]\n"
     ]
    }
   ],
   "source": [
    "a = [1,3,5]\n",
    "b = [2,4,6]\n",
    "x=zip(a,b)\n",
    "print(list(x))\n"
   ]
  },
  {
   "cell_type": "code",
   "execution_count": 127,
   "id": "fe2413ed-a9de-4fbd-9183-d3755c784b4e",
   "metadata": {},
   "outputs": [
    {
     "name": "stdout",
     "output_type": "stream",
     "text": [
      "[('m', 'y'), ('na', 'me'), ('i', 's'), ('am', 'in')]\n"
     ]
    }
   ],
   "source": [
    "a= [\"m\",\"na\",\"i\",\"am\"]\n",
    "b= [\"y\",\"me\",\"s\",\"in\"]\n",
    "x= zip(a,b)\n",
    "print(list(x))"
   ]
  },
  {
   "cell_type": "code",
   "execution_count": 133,
   "id": "ddec9cff-edeb-40bb-9376-86417446fab6",
   "metadata": {},
   "outputs": [
    {
     "name": "stdout",
     "output_type": "stream",
     "text": [
      "[2, 5, 68, 8, 8]\n"
     ]
    }
   ],
   "source": [
    "s =[2,5,68,4,8,8]\n",
    "l = len(s)\n",
    "c =l/2\n",
    "del s [int(c)]\n",
    "print(s)"
   ]
  },
  {
   "cell_type": "code",
   "execution_count": 148,
   "id": "05715c40-45d3-4c5e-9150-1c951c3ffa45",
   "metadata": {},
   "outputs": [
    {
     "data": {
      "text/plain": [
       "'AmAliin'"
      ]
     },
     "execution_count": 148,
     "metadata": {},
     "output_type": "execute_result"
    }
   ],
   "source": [
    "def b (n1,n2):\n",
    "    return n1.format(n2)\n",
    "    \n",
    "b(\"Am{}in\",\"Ali\")\n",
    "    "
   ]
  },
  {
   "cell_type": "code",
   "execution_count": null,
   "id": "8704bd31-6065-409f-ad55-8a236ebd9277",
   "metadata": {},
   "outputs": [],
   "source": []
  }
 ],
 "metadata": {
  "kernelspec": {
   "display_name": "Python 3 (ipykernel)",
   "language": "python",
   "name": "python3"
  },
  "language_info": {
   "codemirror_mode": {
    "name": "ipython",
    "version": 3
   },
   "file_extension": ".py",
   "mimetype": "text/x-python",
   "name": "python",
   "nbconvert_exporter": "python",
   "pygments_lexer": "ipython3",
   "version": "3.10.7"
  }
 },
 "nbformat": 4,
 "nbformat_minor": 5
}
