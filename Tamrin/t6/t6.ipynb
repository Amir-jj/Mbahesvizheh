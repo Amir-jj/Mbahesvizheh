{
 "cells": [
  {
   "cell_type": "code",
   "execution_count": 5,
   "id": "49a662a2-bd5f-4975-ad9e-a022d2f99e2e",
   "metadata": {},
   "outputs": [
    {
     "data": {
      "text/plain": [
       "True"
      ]
     },
     "execution_count": 5,
     "metadata": {},
     "output_type": "execute_result"
    }
   ],
   "source": [
    "def pd(n):\n",
    "    return n[::] == n[::-1]\n",
    "\n",
    "pd(\"ana\")"
   ]
  },
  {
   "cell_type": "code",
   "execution_count": 25,
   "id": "a47d252a-1d40-45b2-9e58-9e518e0d058f",
   "metadata": {},
   "outputs": [
    {
     "data": {
      "text/plain": [
       "0"
      ]
     },
     "execution_count": 25,
     "metadata": {},
     "output_type": "execute_result"
    }
   ],
   "source": [
    "c = \"reza\"\n",
    "def ch(m):\n",
    "   return c.index(m)\n",
    "        \n",
    "\n",
    "ch('r')"
   ]
  },
  {
   "cell_type": "code",
   "execution_count": 80,
   "id": "89e78907-eadf-4765-9f19-7168e5ba20b3",
   "metadata": {},
   "outputs": [
    {
     "name": "stdout",
     "output_type": "stream",
     "text": [
      "a=4,b=2\n"
     ]
    }
   ],
   "source": [
    "def count(x):\n",
    "    a = 0\n",
    "    b = 0\n",
    "    for i in x :\n",
    "        if (i == \"a\") :\n",
    "            a = a+1 \n",
    "        elif(i == \"b\"):\n",
    "             b= b+1\n",
    "        else:\n",
    "            print(\"NotFound\")\n",
    "    print(f\"a={a},b={b}\")\n",
    "count(\"baabaa\")\n",
    "            \n",
    "    "
   ]
  },
  {
   "cell_type": "code",
   "execution_count": 85,
   "id": "7dea0ec3-7f19-4a65-8a02-124667ed6955",
   "metadata": {},
   "outputs": [
    {
     "name": "stdout",
     "output_type": "stream",
     "text": [
      "Upper:DMZI\n",
      "Lower:axm\n",
      "char:*_+-@\n"
     ]
    }
   ],
   "source": [
    "def v (x):\n",
    "    Up = \"\"\n",
    "    Low = \"\"\n",
    "    ch = \"\"\n",
    "    for i in x :\n",
    "        if(i.isupper()):\n",
    "            Up = Up + i\n",
    "\n",
    "        elif(i.islower()):\n",
    "            Low = Low + i\n",
    "\n",
    "        else:\n",
    "            ch = ch + i\n",
    "\n",
    "    print(f\"Upper:{Up}\")\n",
    "    print(f\"Lower:{Low}\")\n",
    "    print(f\"char:{ch}\")\n",
    "\n",
    "v(\"a*xDM_+-Z@mI\")\n",
    "            "
   ]
  },
  {
   "cell_type": "code",
   "execution_count": null,
   "id": "e376fcd6-196e-4721-917c-137754128585",
   "metadata": {},
   "outputs": [],
   "source": []
  }
 ],
 "metadata": {
  "kernelspec": {
   "display_name": "Python 3 (ipykernel)",
   "language": "python",
   "name": "python3"
  },
  "language_info": {
   "codemirror_mode": {
    "name": "ipython",
    "version": 3
   },
   "file_extension": ".py",
   "mimetype": "text/x-python",
   "name": "python",
   "nbconvert_exporter": "python",
   "pygments_lexer": "ipython3",
   "version": "3.10.7"
  }
 },
 "nbformat": 4,
 "nbformat_minor": 5
}
