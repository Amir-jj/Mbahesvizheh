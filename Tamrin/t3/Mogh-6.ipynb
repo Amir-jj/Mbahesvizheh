{
 "cells": [
  {
   "cell_type": "code",
   "execution_count": 1,
   "id": "20142d3c-5e79-446a-900f-530d2553732b",
   "metadata": {},
   "outputs": [
    {
     "name": "stdout",
     "output_type": "stream",
     "text": [
      " num2 بزرگ تراز num1\n"
     ]
    }
   ],
   "source": [
    "def Moghayeseh(num1 , num2):\n",
    "    if (num1 > num2):\n",
    "        print(\" num2 بزرگ تراز num1\")\n",
    "    elif(num1 < num2):\n",
    "        print(\" num2 کوچک تر از num1\")\n",
    "    else:\n",
    "        print(\" num2 مساوی num1\")\n",
    "        \n",
    "\n",
    "Moghayeseh(10,5)\n"
   ]
  },
  {
   "cell_type": "code",
   "execution_count": 2,
   "id": "ee76afaa-8430-4995-a069-cec9c1b8910d",
   "metadata": {},
   "outputs": [
    {
     "name": "stdout",
     "output_type": "stream",
     "text": [
      " num2 کوچک تر از num1\n"
     ]
    }
   ],
   "source": [
    "Moghayeseh(1,5)"
   ]
  },
  {
   "cell_type": "code",
   "execution_count": 3,
   "id": "69a46307-843a-4b5f-a7e8-30c8f040ecb2",
   "metadata": {},
   "outputs": [
    {
     "name": "stdout",
     "output_type": "stream",
     "text": [
      " num2 مساوی num1\n"
     ]
    }
   ],
   "source": [
    "Moghayeseh(5,5)"
   ]
  },
  {
   "cell_type": "code",
   "execution_count": null,
   "id": "cb600c99-bd73-4dbc-a2eb-88eb77875d10",
   "metadata": {},
   "outputs": [],
   "source": []
  }
 ],
 "metadata": {
  "kernelspec": {
   "display_name": "Python 3 (ipykernel)",
   "language": "python",
   "name": "python3"
  },
  "language_info": {
   "codemirror_mode": {
    "name": "ipython",
    "version": 3
   },
   "file_extension": ".py",
   "mimetype": "text/x-python",
   "name": "python",
   "nbconvert_exporter": "python",
   "pygments_lexer": "ipython3",
   "version": "3.10.7"
  }
 },
 "nbformat": 4,
 "nbformat_minor": 5
}
