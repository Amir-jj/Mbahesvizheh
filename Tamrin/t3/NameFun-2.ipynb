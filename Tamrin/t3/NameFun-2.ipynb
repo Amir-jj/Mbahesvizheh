{
 "cells": [
  {
   "cell_type": "code",
   "execution_count": 16,
   "id": "72164558-3849-4e1b-8cf4-dcab8b59fbb1",
   "metadata": {},
   "outputs": [
    {
     "name": "stdout",
     "output_type": "stream",
     "text": [
      "Amirreza \n",
      "jafari\n",
      " 21\n"
     ]
    }
   ],
   "source": [
    "def Moshakhasat(Name,lname,Age):\n",
    "    print(f\"{Name} \\n{lname}\\n {Age}\")\n",
    "\n",
    "Moshakhasat(\"Amirreza\",\"jafari\",21)"
   ]
  }
 ],
 "metadata": {
  "kernelspec": {
   "display_name": "Python 3 (ipykernel)",
   "language": "python",
   "name": "python3"
  },
  "language_info": {
   "codemirror_mode": {
    "name": "ipython",
    "version": 3
   },
   "file_extension": ".py",
   "mimetype": "text/x-python",
   "name": "python",
   "nbconvert_exporter": "python",
   "pygments_lexer": "ipython3",
   "version": "3.10.7"
  }
 },
 "nbformat": 4,
 "nbformat_minor": 5
}
