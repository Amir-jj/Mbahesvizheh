{
 "cells": [
  {
   "cell_type": "code",
   "execution_count": 31,
   "id": "1df68c21-3f6e-4c67-ab9e-562aa92fe0e3",
   "metadata": {},
   "outputs": [
    {
     "data": {
      "text/plain": [
       "30"
      ]
     },
     "execution_count": 31,
     "metadata": {},
     "output_type": "execute_result"
    }
   ],
   "source": [
    "def Sum (num1 , num2):\n",
    "    res = num1 + num2\n",
    "    return res\n",
    "Sum(10,20)\n",
    "    "
   ]
  },
  {
   "cell_type": "code",
   "execution_count": 32,
   "id": "2431f43c-24b3-4cc7-8b5b-4b27b39440c6",
   "metadata": {},
   "outputs": [
    {
     "data": {
      "text/plain": [
       "-30"
      ]
     },
     "execution_count": 32,
     "metadata": {},
     "output_type": "execute_result"
    }
   ],
   "source": [
    "def Minus (num1 , num2):\n",
    "    res = num1 - num2\n",
    "    return res\n",
    "Minus(20,50)"
   ]
  },
  {
   "cell_type": "code",
   "execution_count": 33,
   "id": "1fa121f8-2a51-4d61-b9c1-e6ef08430292",
   "metadata": {},
   "outputs": [
    {
     "data": {
      "text/plain": [
       "1000"
      ]
     },
     "execution_count": 33,
     "metadata": {},
     "output_type": "execute_result"
    }
   ],
   "source": [
    "def Zarb (num1 , num2):\n",
    "    res = num1 * num2\n",
    "    return res\n",
    "Zarb(20,50)"
   ]
  },
  {
   "cell_type": "code",
   "execution_count": 34,
   "id": "564879c7-0aa7-4a4a-abea-cb09c61ec88b",
   "metadata": {},
   "outputs": [
    {
     "data": {
      "text/plain": [
       "4.0"
      ]
     },
     "execution_count": 34,
     "metadata": {},
     "output_type": "execute_result"
    }
   ],
   "source": [
    "def Taghsim (num1 , num2):\n",
    "    res = num1 / num2\n",
    "    return res\n",
    "Taghsim(20,5)"
   ]
  }
 ],
 "metadata": {
  "kernelspec": {
   "display_name": "Python 3 (ipykernel)",
   "language": "python",
   "name": "python3"
  },
  "language_info": {
   "codemirror_mode": {
    "name": "ipython",
    "version": 3
   },
   "file_extension": ".py",
   "mimetype": "text/x-python",
   "name": "python",
   "nbconvert_exporter": "python",
   "pygments_lexer": "ipython3",
   "version": "3.10.7"
  }
 },
 "nbformat": 4,
 "nbformat_minor": 5
}
