{
 "cells": [
  {
   "cell_type": "code",
   "execution_count": 9,
   "id": "9e5ecfe4-5e77-4218-882a-1b2d1fc90d05",
   "metadata": {},
   "outputs": [],
   "source": [
    "def darsad(num1,num2):\n",
    "    c = (num1/num2)*100\n",
    "    return c"
   ]
  },
  {
   "cell_type": "code",
   "execution_count": 8,
   "id": "ebe351c8-50ff-45a1-ab39-88c0d3ca04b0",
   "metadata": {},
   "outputs": [
    {
     "data": {
      "text/plain": [
       "40.0"
      ]
     },
     "execution_count": 8,
     "metadata": {},
     "output_type": "execute_result"
    }
   ],
   "source": [
    "darsad(2,5)"
   ]
  },
  {
   "cell_type": "code",
   "execution_count": 10,
   "id": "6a2cb1f0-8b67-4cfd-9a7d-afdb719e437a",
   "metadata": {},
   "outputs": [
    {
     "data": {
      "text/plain": [
       "20.0"
      ]
     },
     "execution_count": 10,
     "metadata": {},
     "output_type": "execute_result"
    }
   ],
   "source": [
    "darsad(2,10)"
   ]
  },
  {
   "cell_type": "code",
   "execution_count": null,
   "id": "8ede3c1d-86b5-4736-a86d-fd9905971bba",
   "metadata": {},
   "outputs": [],
   "source": []
  }
 ],
 "metadata": {
  "kernelspec": {
   "display_name": "Python 3 (ipykernel)",
   "language": "python",
   "name": "python3"
  },
  "language_info": {
   "codemirror_mode": {
    "name": "ipython",
    "version": 3
   },
   "file_extension": ".py",
   "mimetype": "text/x-python",
   "name": "python",
   "nbconvert_exporter": "python",
   "pygments_lexer": "ipython3",
   "version": "3.10.7"
  }
 },
 "nbformat": 4,
 "nbformat_minor": 5
}
